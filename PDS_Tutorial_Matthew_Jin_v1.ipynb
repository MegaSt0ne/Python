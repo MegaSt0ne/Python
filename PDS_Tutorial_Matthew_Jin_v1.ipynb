{
 "cells": [
  {
   "cell_type": "markdown",
   "metadata": {},
   "source": [
    "## Introduction"
   ]
  },
  {
   "cell_type": "markdown",
   "metadata": {},
   "source": [
    "Artificial Neural Networks (ANNs) is undoubtedly one of the state-of-the-art machine learning techniques nowadays. As a learning algorithm, ANNs are fundamentally different from a typical hand-written program. To be more specific, instead of writing thousands programs for each unique problem, artificial neural networks can take advantage of large amounts of train data to teach itself how to achieve certain optimization tasks. It usually takes millions of numbers to train an effective learning algorithm to perform highly complex tasks, such as pattern detection, anomalies recognition, and prediction. \n",
    "\n",
    "I do not know about you. Honestly, I am really excited when I first heard about this idea of a computer program which can automatically improve itself with the growth of experiences. However, before we try to use ANNs to solve various problems, we need to first answer several fundamental questions. What is ANN? How does it work? How can we implement it? How can we use it?\n",
    "\n",
    "\n",
    "In this tutorial, I will try to give a brief introduction to the definition of ANNs, its mathematical representations, a simple version of its implementation in Python, and its application. To be more specific, there are four parts:\n",
    "\n",
    " - <a href='#section1'>Components of artificial neural networks</a>\n",
    " - <a href='#section2'>Model representation of artificial neural networks</a>\n",
    " - <a href='#section3'>Simple Implementation of artificial neural networks</a>\n",
    " - <a href='#section4'>Application of artificial neural networks</a>\n",
    "\n",
    "Are you excited to see how it works? Let's get started!"
   ]
  },
  {
   "cell_type": "markdown",
   "metadata": {},
   "source": [
    "## Components of Artificial Neural Network<a id='section1'></a>"
   ]
  },
  {
   "cell_type": "markdown",
   "metadata": {},
   "source": [
    "The origional goal of neural network algorithm is to build an algorithm that can solve problems like human brain. As a result, in order to better understand how artificial neural networks work, we should first have a basic idea of how neurons work. The picture below is a single neuron. Neurons process computations by taking messages from other neurons through Dendrites (input) and sending messages to other neurons via Axon (output)."
   ]
  },
  {
   "attachments": {},
   "cell_type": "markdown",
   "metadata": {
    "collapsed": true
   },
   "source": [
    "![pic4](https://raw.githubusercontent.com/MegaSt0ne/Picture/master/neurons.png \"Neurons\")"
   ]
  },
  {
   "cell_type": "markdown",
   "metadata": {
    "collapsed": true
   },
   "source": [
    "We can map that relationship into the neural network algorithm to facilitate our understanding. For a artificial neural network, there must be inputs, outputs, layers, and activation functions. Before introducing any mathematical notations, let's first see a simple example of an artificial neural network. \n",
    "\n",
    "As you can see from the picture below, this neural network has three layers. The left one is the input layer, the middle one is the hidden layer, and the right one is the output layer. Here, $\\ x_1, x_2, x_3$ are three input features, $\\ h_1^2, h_2^2, h_3^2, h_4^2$ (the superscript 2 means it is the second layer in the networks) are four nodes in the hidden layers, and $h_\\theta x$ is the predicted output. \n",
    "\n",
    "At last, if there are more than 2 hidden layers in the neural network, we call it a deep neural network."
   ]
  },
  {
   "attachments": {},
   "cell_type": "markdown",
   "metadata": {
    "collapsed": true
   },
   "source": [
    "![pic3](https://raw.githubusercontent.com/MegaSt0ne/Picture/master/Screen%20Shot%202018-03-25%20at%2012.26.48%20AM.png \"Simple Aritificial Nerual Networks\")"
   ]
  },
  {
   "cell_type": "markdown",
   "metadata": {
    "collapsed": true
   },
   "source": [
    "## Model Representation of Artificial Neural Networks <a id='section2'></a>"
   ]
  },
  {
   "cell_type": "markdown",
   "metadata": {
    "collapsed": true
   },
   "source": [
    "In order to solidify our understanding of ANNs, we need to introduce some mathematical notations to help us abstract the model. We can use the above example to demonstrate the model. \n",
    "\n",
    " - $x_i$ is the $ith$ feature in the input layer, where $i$=0,1,2,3,4...k. \n",
    "    k is the total number of features in the input layer.\n",
    " - $h_i^j$ is the $ith$ node in the $jth$ layer, where $i$=0,1,2,3,4...m and $j$=1,2,3,4...n. m is the total number of nodes in the hidden layer. n is the total number of layers in the neural networks.\n",
    " - $\\theta^j$ is a matrix of weights of the $jth$ layer, where $j$=0,1,2,3,4...n. n is the total number of layers in the neural networks.\n",
    " \n",
    " If you feel the notations here are not clear enough, I apologize for it. Don't worry. I will give two examples to make it more clear."
   ]
  },
  {
   "cell_type": "markdown",
   "metadata": {
    "collapsed": true
   },
   "source": [
    "### Example of Artificial Neural Networks (A)"
   ]
  },
  {
   "cell_type": "markdown",
   "metadata": {},
   "source": [
    "Let's consider an easy example first, a neural networks without hidden layer. How can we model it?\n",
    "\n"
   ]
  },
  {
   "attachments": {},
   "cell_type": "markdown",
   "metadata": {},
   "source": [
    "![pic2](https://raw.githubusercontent.com/MegaSt0ne/Picture/master/Screen%20Shot%202018-03-25%20at%2012.59.01%20AM.png \"Aritificial Nerual Networks (A)\")"
   ]
  },
  {
   "cell_type": "markdown",
   "metadata": {},
   "source": [
    "First, there are 4 features in the input layer. By convention, $x_0$ is a bias unit and it is always equal to 1. Here, we have a matrix of features. \n",
    "\n",
    "\\begin{align}\n",
    "x = \\begin{pmatrix}\n",
    "x_0\\\\\n",
    "x_1\\\\\n",
    "x_2\\\\\n",
    "x_3\n",
    "\\end{pmatrix} \n",
    "\\end{align}"
   ]
  },
  {
   "cell_type": "markdown",
   "metadata": {},
   "source": [
    "Second, because for each feature we will have a weight (parameter) assigned to it, we also have a matrix of weights. Please note that currently all the weights are arbitrarily assgined. Later, we will discuss how we can optimize those weights.\n",
    "\n",
    "\\begin{align}\n",
    "\\theta = \\begin{pmatrix}\n",
    "\\theta_0\\\\\n",
    "\\theta_1\\\\\n",
    "\\theta_2\\\\\n",
    "\\theta_3\n",
    "\\end{pmatrix} \n",
    "\\end{align}"
   ]
  },
  {
   "cell_type": "markdown",
   "metadata": {},
   "source": [
    "Last, here, we define our hypothesis function to be sigmoid (logistic) function. So, = $\\frac{1}{1+e^-\\theta^Tx}$. \n",
    "\n",
    "Also, the inner product of two vector $x$ and $\\theta$ is equal to $\\theta^T$$x$ = $x_0\\theta_0 + x_1\\theta_1 + x_2\\theta_2 + x_3\\theta_3$. \n",
    "\n",
    "Then, we can get $h_\\theta$$x$ = $\\frac{1}{1+e^-(x_0\\theta_0 + x_1\\theta_1 + x_2\\theta_2 + x_3\\theta_3)}$. So, in this way we can get the final predicted outcome.\n",
    "\n"
   ]
  },
  {
   "cell_type": "markdown",
   "metadata": {
    "collapsed": true
   },
   "source": [
    "### Example of Artificial Neural Networks (B)"
   ]
  },
  {
   "attachments": {},
   "cell_type": "markdown",
   "metadata": {
    "collapsed": true
   },
   "source": [
    "Now let's take a look at a more advanced example, a neural network with one hidden layer. (I really should not say \"advanced\", shouldn't I?) \n",
    "\n",
    "![pic1](https://raw.githubusercontent.com/MegaSt0ne/Picture/master/pic1.png \"Aritificial Nerual Networks (B)\")\n",
    "\n",
    "First, there are 4 features in the input layer. By convention, $x_0$ is a bias unit and it is always equal to 1. Here, we have a matrix of features. \n",
    "\n",
    "\\begin{align}\n",
    "x = \\begin{pmatrix}\n",
    "x_0\\\\\n",
    "x_1\\\\\n",
    "x_2\\\\\n",
    "x_3\n",
    "\\end{pmatrix} \n",
    "\\end{align}"
   ]
  },
  {
   "cell_type": "markdown",
   "metadata": {
    "collapsed": true
   },
   "source": [
    "Second, because for each feature we will have a weight (parameter) assigned to it, we also have a matrix of weights. Please note that currently all the weights are arbitrarily assgined. Later, we will discuss how we can optimize those weights.\n",
    "\n",
    "\\begin{align}\n",
    "\\theta = \\begin{pmatrix}\n",
    "\\theta_0\\\\\n",
    "\\theta_1\\\\\n",
    "\\theta_2\\\\\n",
    "\\theta_3\n",
    "\\end{pmatrix} \n",
    "\\end{align}"
   ]
  },
  {
   "attachments": {},
   "cell_type": "markdown",
   "metadata": {
    "collapsed": true
   },
   "source": [
    "Third, let's see how we can calculate the node values ($\\ h_1^2, h_2^2, h_3^2, h_4^2$) in the hidden layer.\n",
    "\n",
    "It is relatively hard to see the relationship between input features and the nodes in the hidden layer. So, we only pick one node from hidden layer.\n",
    "\n",
    "![pic5](https://raw.githubusercontent.com/MegaSt0ne/Picture/master/Screen%20Shot%202018-03-25%20at%201.51.41%20AM.png \"Decomposed Aritificial Neural Networks\")\n",
    "\n",
    "Here, we are assuming the activation function for the hidden layer is also sigmoid (logistic) function. Remember the superscript of vector $\\theta_i^1$ means vector $\\theta_i$ is the weights for the 1st layer (input layer) in the networks. Following the rules, we can calculate $h_1^2, h_2^2, h_3^2, h_4^2$.\n",
    "\n",
    "$h_1^2$ = $g$($\\theta_{10}^1$$x_0$ + $\\theta_{11}^1$$x_1$ + $\\theta_{12}^1$$x_2$ + $\\theta_{13}^1$$x_3$) \n",
    "\n",
    "$h_2^2$ = $g$($\\theta_{20}^1$$x_0$ + $\\theta_{21}^1$$x_1$ + $\\theta_{22}^1$$x_2$ + $\\theta_{23}^1$$x_3$)\n",
    "\n",
    "$h_3^2$ = $g$($\\theta_{30}^1$$x_0$ + $\\theta_{31}^1$$x_1$ + $\\theta_{32}^1$$x_2$ + $\\theta_{33}^1$$x_3$)\n",
    "\n",
    "$h_4^2$ = $g$($\\theta_{40}^1$$x_0$ + $\\theta_{41}^1$$x_1$ + $\\theta_{42}^1$$x_2$ + $\\theta_{43}^1$$x_3$)"
   ]
  },
  {
   "cell_type": "markdown",
   "metadata": {
    "collapsed": true
   },
   "source": [
    "Last, we can calculate the predicted outcome $h_\\theta$$x$ = $\\frac{1}{1+e^-\\theta^Tx}$. \n",
    "\n",
    "Please remeber that $h_0^2$ is also a bias unit. So, it always equals 1. $h_\\theta$$x$ = $g$($\\theta_{10}^2$$h_0^2$ + $\\theta_{11}^2$$h_1^2$ + $\\theta_{12}^2$$h_2^2$ + $\\theta_{13}^1$$h_3^2$ + $\\theta_{14}^1$$h_4^2$)\n",
    "\n",
    "So, in this way we can get the final predicted outcome from a neural networks with multiple hidden layers."
   ]
  },
  {
   "cell_type": "markdown",
   "metadata": {
    "collapsed": true
   },
   "source": [
    "Great! Now we finally have a basic understanding of how the neural networks calculate its outcomes. Let's try to implement the model in python!\n",
    "\n",
    "Oh, by the way, the procedures above regarding how to the final predicted outcome from the input layer to the output layer is called forward propagation. We will introduce another similar concept backpropagation in the next part."
   ]
  },
  {
   "cell_type": "markdown",
   "metadata": {
    "collapsed": true
   },
   "source": [
    "## Simple Implementation of Artificial Neural Networks <a id='section3'></a>"
   ]
  },
  {
   "cell_type": "markdown",
   "metadata": {},
   "source": [
    "We will try to implement the ANNs algorithm with the help of the following dataset. You can download the dataset at https://www.kaggle.com/uciml/pima-indians-diabetes-database/downloads/diabetes.csv/1. The objective of the dataset is to diagnostically predict whether or not a patient has diabetes, based on certain diagnostic measurements included in the dataset [Source: https://www.kaggle.com/uciml/pima-indians-diabetes-database]. \n",
    "\n",
    "Okay. Let's dive right into the implementation."
   ]
  },
  {
   "cell_type": "code",
   "execution_count": 56,
   "metadata": {},
   "outputs": [],
   "source": [
    "# import necessary python packages\n",
    "import numpy as np\n",
    "import pandas as pd\n",
    "import seaborn as sns\n",
    "from scipy.stats import describe\n",
    "from sklearn.model_selection import train_test_split\n",
    "from sklearn.preprocessing import StandardScaler\n",
    "from sklearn.neural_network import MLPClassifier\n",
    "from sklearn.metrics import classification_report,confusion_matrix\n",
    "\n",
    "import matplotlib.pyplot as plt\n",
    "from  matplotlib.colors import ListedColormap\n",
    "%matplotlib inline"
   ]
  },
  {
   "cell_type": "markdown",
   "metadata": {},
   "source": [
    "We will use sigmoid function as the activation function in the implementation. Of course, you could also use other functions as activation function. But in this case, we will use sigmoid function because we are trying to solve a classification problem (diabetes or non-diabetes).\n",
    "\n",
    "Besides the sigmoid function, we also need to define how to compute the derivatives of sigmoid function. For those of you familiar with calculus, you can skip the following paragraph. For those of you who want to review some calculus, here is how we get the derivate of sigmoid function."
   ]
  },
  {
   "attachments": {},
   "cell_type": "markdown",
   "metadata": {},
   "source": [
    "![pic6](https://raw.githubusercontent.com/MegaSt0ne/Picture/master/Screen%20Shot%202018-03-25%20at%207.14.17%20PM.png \"Sigmoid Function Derivaties\") \n",
    "\n",
    "[Source: https://math.stackexchange.com/questions/78575/derivative-of-sigmoid-function-sigma-x-frac11e-x]"
   ]
  },
  {
   "cell_type": "code",
   "execution_count": 57,
   "metadata": {},
   "outputs": [],
   "source": [
    "# sigmoid function\n",
    "def sigmoid(x):\n",
    "    output = 1/(1+np.exp(-x))\n",
    "    return output\n",
    "\n",
    "# compute the derivative of the sigmoid function\n",
    "def sigmoid_derivative(output):\n",
    "    return output*(1-output)"
   ]
  },
  {
   "cell_type": "code",
   "execution_count": 58,
   "metadata": {},
   "outputs": [],
   "source": [
    "# change working directory\n",
    "import os\n",
    "os.getcwd() # get the current working directory\n",
    "path = '/Users/JinMatthew/Documents/CMU/18S/Practical_Data_Science/Tutorial' # the target working directory\n",
    "os.chdir(path) # change the current working directory to the target working directory"
   ]
  },
  {
   "cell_type": "code",
   "execution_count": 59,
   "metadata": {},
   "outputs": [],
   "source": [
    "# read the training data\n",
    "df_data = pd.read_csv('../Tutorial/diabetes.csv')\n",
    "\n",
    "# randomly split data into train data and test data\n",
    "df_train = df_data.drop(['Outcome'], axis = 1)\n",
    "df_outcome = df_data.Outcome\n",
    "X_train, X_test, y_train, y_test = train_test_split(df_train, df_outcome, test_size = 0.33, random_state = 12)"
   ]
  },
  {
   "cell_type": "markdown",
   "metadata": {},
   "source": [
    "### Normalization\n",
    "\n",
    "We will explore the dataset more in the application section such as eliminate missing data, outliers and etc. In this section, we will focus more on the implementation and we will assume the dataset is clean. In order to make training faster and reduce the change to get stuck in the local optimum, we need to first standardize training data."
   ]
  },
  {
   "cell_type": "code",
   "execution_count": 60,
   "metadata": {},
   "outputs": [],
   "source": [
    "# standardize train and test data\n",
    "scaler = StandardScaler()\n",
    "X_train = scaler.fit_transform(X_train) # Fit to data, then transform it"
   ]
  },
  {
   "cell_type": "markdown",
   "metadata": {},
   "source": [
    "In order to simplify the implementation, to solve this particular classification problem, we will assume that we have 2 hidden layers and there are 10 nodes in the first hidden layer and 9 nodes in the second hidden layer."
   ]
  },
  {
   "cell_type": "code",
   "execution_count": 61,
   "metadata": {},
   "outputs": [],
   "source": [
    "class Neural_Networks:\n",
    "    \"\"\"\n",
    "    An Artificial Neural Networks Class\n",
    "    Args:\n",
    "        iterations (integer): number of iterations\n",
    "        alpha (float): the learning rate\n",
    "    \"\"\"\n",
    "    def __init__(self, iterations, alpha = 0.001):\n",
    "        self.iter = iterations\n",
    "        self.alpha = alpha\n",
    "        \n",
    "    def fit(self, data, outcome):\n",
    "        \"\"\"\n",
    "        Train Model on the dataset\n",
    "        \n",
    "        Args:\n",
    "            data (matrix): a matrix of training dataset\n",
    "            outcome (vector): a vector of the outcome variable\n",
    "        \"\"\"\n",
    "        # initialize the theta weigts matrix\n",
    "        # randomly initialize our weights with mean 0\n",
    "        \n",
    "        # the dimension is (8 + 1,10 + 1) because in the input layer, we have 8 features in the dataset and the bias unit,\n",
    "        # in the 2nd layer (1st hidden layer), we assume that we have 10 nodes and the bias unit\n",
    "        theta_0 = 2 * np.random.random((8 + 1, 10 + 1)) - 1 \n",
    "        \n",
    "        # the same reason as above, in the 3rd layer (2nd hidden layer), we assume that we have 9 nodes and the bias unit\n",
    "        theta_1 = 2 * np.random.random((10 + 1 , 9 + 1)) - 1\n",
    "        \n",
    "        # in the output layer, we only have one outcome, so we only need one weight.\n",
    "        theta_2 = 2 * np.random.random((9 + 1, 1)) - 1\n",
    "        \n",
    "        # optimize weights in each layer\n",
    "        for i in range(self.iter + 1):\n",
    "\n",
    "            # Attention: here, we use forward propagation to calculate each layers\n",
    "            # Important: here we use np.append to add the bias unit\n",
    "            layer_0 = np.append(data, np.ones(data.shape[0])[:, None], axis = 1) \n",
    "            \n",
    "            # Here, we just use the same forward propagation rules to calculate each layers\n",
    "            layer_1 = sigmoid(np.dot(layer_0,theta_0))\n",
    "            layer_2 = sigmoid(np.dot(layer_1,theta_1))\n",
    "            layer_3 = sigmoid(np.dot(layer_2,theta_2))\n",
    "\n",
    "            # how much did we miss the target value?\n",
    "            layer_3_error = layer_3 - outcome[:, None]\n",
    "\n",
    "            if (i% 1000) == 0:\n",
    "                print(\"Error after \"+str(i)+\" iterations:\" + str(np.mean(np.abs(layer_3_error))))\n",
    "\n",
    "            # in what direction is the target value?\n",
    "            # were we really sure? if so, don't change too much.\n",
    "            layer_3_delta = layer_3_error*sigmoid_derivative(layer_3)\n",
    "\n",
    "            # how much did each l1 value contribute to the l2 error (according to the weights)?\n",
    "            layer_2_error = layer_3_delta.dot(theta_2.T)\n",
    "\n",
    "            # in what direction is the target l1?\n",
    "            # were we really sure? if so, don't change too much.\n",
    "            layer_2_delta = layer_2_error * sigmoid_derivative(layer_2)\n",
    "\n",
    "            # how much did each l1 value contribute to the l2 error (according to the weights)?\n",
    "            layer_1_error = layer_2_delta.dot(theta_1.T)\n",
    "\n",
    "            # in what direction is the target l1?\n",
    "            # were we really sure? if so, don't change too much.\n",
    "            layer_1_delta = layer_1_error * sigmoid_derivative(layer_1)\n",
    "\n",
    "            # how much did each l1 value contribute to the l2 error (according to the weights)?\n",
    "            layer_0_error = layer_1_delta.dot(theta_0.T)\n",
    "\n",
    "            theta_2 -= self.alpha * (layer_2.T.dot(layer_3_delta))\n",
    "            theta_1 -= self.alpha * (layer_1.T.dot(layer_2_delta))\n",
    "            theta_0 -= self.alpha * (layer_0.T.dot(layer_1_delta))"
   ]
  },
  {
   "cell_type": "markdown",
   "metadata": {},
   "source": [
    "Great! Let's try and see how well our model performs! Here, we use the default value of the learn rate = 0.001 to train our model."
   ]
  },
  {
   "cell_type": "code",
   "execution_count": 62,
   "metadata": {},
   "outputs": [
    {
     "name": "stdout",
     "output_type": "stream",
     "text": [
      "Error after 0 iterations:0.41805377269505745\n",
      "Error after 1000 iterations:0.3141150371778769\n",
      "Error after 2000 iterations:0.29995623886084327\n",
      "Error after 3000 iterations:0.29086152643790275\n",
      "Error after 4000 iterations:0.2805236900146508\n",
      "Error after 5000 iterations:0.27045454525165663\n",
      "Error after 6000 iterations:0.26168865765165406\n",
      "Error after 7000 iterations:0.25343477991439056\n",
      "Error after 8000 iterations:0.24441374209317926\n"
     ]
    }
   ],
   "source": [
    "# Initialize ANN\n",
    "ann = Neural_Networks(8000)\n",
    "\n",
    "# demonstrate error rate\n",
    "ann.fit(X_train, y_train)"
   ]
  },
  {
   "cell_type": "markdown",
   "metadata": {},
   "source": [
    "It seems that our model does not perform very well. What is the problem? We can see the error rate is decreasing slowly. Is it possible that our learning rate is too small which leads to the slow convergence of our model? Let's try different learning rates."
   ]
  },
  {
   "cell_type": "code",
   "execution_count": 63,
   "metadata": {},
   "outputs": [
    {
     "name": "stdout",
     "output_type": "stream",
     "text": [
      "Try learning rate:  0.001\n",
      "Error after 0 iterations:0.3996283521404684\n",
      "Error after 1000 iterations:0.3146450135145951\n",
      "Error after 2000 iterations:0.3014970863329373\n",
      "Error after 3000 iterations:0.29545227143431085\n",
      "Error after 4000 iterations:0.2904524054583496\n",
      "Error after 5000 iterations:0.2857624680556847\n",
      "Error after 6000 iterations:0.2808486416238664\n",
      "Error after 7000 iterations:0.2749137577876871\n",
      "Error after 8000 iterations:0.26768013992520406\n",
      "\n",
      "Try learning rate:  0.01\n",
      "Error after 0 iterations:0.4720526015291762\n",
      "Error after 1000 iterations:0.23210724632955257\n",
      "Error after 2000 iterations:0.13840606692217888\n",
      "Error after 3000 iterations:0.09336970872963624\n",
      "Error after 4000 iterations:0.07598712229353806\n",
      "Error after 5000 iterations:0.06621641167290616\n",
      "Error after 6000 iterations:0.05843172552290573\n",
      "Error after 7000 iterations:0.054283577363260026\n",
      "Error after 8000 iterations:0.05171086269330421\n",
      "\n",
      "Try learning rate:  0.1\n",
      "Error after 0 iterations:0.49044030914431924\n",
      "Error after 1000 iterations:0.06943322085115078\n",
      "Error after 2000 iterations:0.027271879748222465\n",
      "Error after 3000 iterations:0.02131298178786205\n",
      "Error after 4000 iterations:0.019517278315324543\n",
      "Error after 5000 iterations:0.018557798692142947\n",
      "Error after 6000 iterations:0.01793783417157225\n",
      "Error after 7000 iterations:0.017496261343336015\n",
      "Error after 8000 iterations:0.017161843503797333\n",
      "\n",
      "Try learning rate:  1\n",
      "Error after 0 iterations:0.4176113474169145\n",
      "Error after 1000 iterations:0.6634241244459933\n",
      "Error after 2000 iterations:0.6634241244459018\n",
      "Error after 3000 iterations:0.6634241244458102\n",
      "Error after 4000 iterations:0.6634241244457184\n",
      "Error after 5000 iterations:0.6634241244456263\n",
      "Error after 6000 iterations:0.663424124445534\n",
      "Error after 7000 iterations:0.6634241244454413\n",
      "Error after 8000 iterations:0.6634241244453485\n",
      "\n"
     ]
    }
   ],
   "source": [
    "# alpha is an arbitrary learning rate \n",
    "alphas = [0.001,0.01,0.1,1]\n",
    "\n",
    "for alpha in alphas:\n",
    "    ann = Neural_Networks(8000, alpha)\n",
    "    print(\"Try learning rate: \", alpha )\n",
    "    ann.fit(X_train, y_train)\n",
    "    print()"
   ]
  },
  {
   "cell_type": "markdown",
   "metadata": {
    "collapsed": true
   },
   "source": [
    "As we can see from the above example, when alpha = 0.1, the error rate decreases rapidly and the error rate is the lowest after 8000 iterations. So, remember the choosing proper learning rate could dramatically improve the performance of your model!"
   ]
  },
  {
   "cell_type": "markdown",
   "metadata": {
    "collapsed": true
   },
   "source": [
    "## Application of Artificial Neural Networks<a id='section4'></a>"
   ]
  },
  {
   "cell_type": "markdown",
   "metadata": {},
   "source": [
    "Here I'll try to demonstrate a simple application of ANNs using the same dataset. You can download the datasets at https://www.kaggle.com/uciml/pima-indians-diabetes-database/downloads/diabetes.csv/1"
   ]
  },
  {
   "cell_type": "code",
   "execution_count": 236,
   "metadata": {},
   "outputs": [],
   "source": [
    "# read the training data\n",
    "df_data = pd.read_csv('../Tutorial/diabetes.csv')\n",
    "\n",
    "df_train = df_data.drop(['Outcome'], axis = 1)\n",
    "d0 = df_data.Outcome.values\n",
    "df_outcome = pd.Series({'Outcome':d0}, name='Outcome')\n",
    "d = {'Text': ['Diabetes' for i in range(len(df_outcome.Outcome))], 'Outcome': df_outcome.Outcome}\n",
    "# label 0,1 as 'Non-Diabetes' and 'Diabetes'\n",
    "df_outcome_text = pd.DataFrame(data = d)\n",
    "df_outcome_text.loc[df_outcome_text.Outcome == 0, 'Text'] = 'Non-Diabetes'"
   ]
  },
  {
   "cell_type": "markdown",
   "metadata": {},
   "source": [
    "### Data Processing\n",
    "\n",
    "Remember before you try to solve any machine learning problems, you better first take a look at the datasets. You will be more likely to pick the algorithm which is more suitable to solve certain problems if you know your data well. So, let's take a look at our data."
   ]
  },
  {
   "cell_type": "code",
   "execution_count": 211,
   "metadata": {},
   "outputs": [
    {
     "data": {
      "text/html": [
       "<div>\n",
       "<style scoped>\n",
       "    .dataframe tbody tr th:only-of-type {\n",
       "        vertical-align: middle;\n",
       "    }\n",
       "\n",
       "    .dataframe tbody tr th {\n",
       "        vertical-align: top;\n",
       "    }\n",
       "\n",
       "    .dataframe thead th {\n",
       "        text-align: right;\n",
       "    }\n",
       "</style>\n",
       "<table border=\"1\" class=\"dataframe\">\n",
       "  <thead>\n",
       "    <tr style=\"text-align: right;\">\n",
       "      <th></th>\n",
       "      <th>Pregnancies</th>\n",
       "      <th>Glucose</th>\n",
       "      <th>BloodPressure</th>\n",
       "      <th>SkinThickness</th>\n",
       "      <th>Insulin</th>\n",
       "      <th>BMI</th>\n",
       "      <th>DiabetesPedigreeFunction</th>\n",
       "      <th>Age</th>\n",
       "    </tr>\n",
       "  </thead>\n",
       "  <tbody>\n",
       "    <tr>\n",
       "      <th>0</th>\n",
       "      <td>6</td>\n",
       "      <td>148</td>\n",
       "      <td>72</td>\n",
       "      <td>35</td>\n",
       "      <td>0</td>\n",
       "      <td>33.6</td>\n",
       "      <td>0.627</td>\n",
       "      <td>50</td>\n",
       "    </tr>\n",
       "    <tr>\n",
       "      <th>1</th>\n",
       "      <td>1</td>\n",
       "      <td>85</td>\n",
       "      <td>66</td>\n",
       "      <td>29</td>\n",
       "      <td>0</td>\n",
       "      <td>26.6</td>\n",
       "      <td>0.351</td>\n",
       "      <td>31</td>\n",
       "    </tr>\n",
       "    <tr>\n",
       "      <th>2</th>\n",
       "      <td>8</td>\n",
       "      <td>183</td>\n",
       "      <td>64</td>\n",
       "      <td>0</td>\n",
       "      <td>0</td>\n",
       "      <td>23.3</td>\n",
       "      <td>0.672</td>\n",
       "      <td>32</td>\n",
       "    </tr>\n",
       "    <tr>\n",
       "      <th>3</th>\n",
       "      <td>1</td>\n",
       "      <td>89</td>\n",
       "      <td>66</td>\n",
       "      <td>23</td>\n",
       "      <td>94</td>\n",
       "      <td>28.1</td>\n",
       "      <td>0.167</td>\n",
       "      <td>21</td>\n",
       "    </tr>\n",
       "    <tr>\n",
       "      <th>4</th>\n",
       "      <td>0</td>\n",
       "      <td>137</td>\n",
       "      <td>40</td>\n",
       "      <td>35</td>\n",
       "      <td>168</td>\n",
       "      <td>43.1</td>\n",
       "      <td>2.288</td>\n",
       "      <td>33</td>\n",
       "    </tr>\n",
       "  </tbody>\n",
       "</table>\n",
       "</div>"
      ],
      "text/plain": [
       "   Pregnancies  Glucose  BloodPressure  SkinThickness  Insulin   BMI  \\\n",
       "0            6      148             72             35        0  33.6   \n",
       "1            1       85             66             29        0  26.6   \n",
       "2            8      183             64              0        0  23.3   \n",
       "3            1       89             66             23       94  28.1   \n",
       "4            0      137             40             35      168  43.1   \n",
       "\n",
       "   DiabetesPedigreeFunction  Age  \n",
       "0                     0.627   50  \n",
       "1                     0.351   31  \n",
       "2                     0.672   32  \n",
       "3                     0.167   21  \n",
       "4                     2.288   33  "
      ]
     },
     "execution_count": 211,
     "metadata": {},
     "output_type": "execute_result"
    }
   ],
   "source": [
    "df_train.head()"
   ]
  },
  {
   "cell_type": "markdown",
   "metadata": {},
   "source": [
    "Here we can also use the describe() function to have a holistic look of the data. Sometimes it will give you some very interesting insights. For example, the standard deviation of variable Insulin is 115.244 with its mean equals to around 80. A variable with such large standard deviation is usually worthy of more investigation. Is there any relationship between Insulin and diabetes?"
   ]
  },
  {
   "cell_type": "code",
   "execution_count": 212,
   "metadata": {},
   "outputs": [
    {
     "data": {
      "text/html": [
       "<div>\n",
       "<style scoped>\n",
       "    .dataframe tbody tr th:only-of-type {\n",
       "        vertical-align: middle;\n",
       "    }\n",
       "\n",
       "    .dataframe tbody tr th {\n",
       "        vertical-align: top;\n",
       "    }\n",
       "\n",
       "    .dataframe thead th {\n",
       "        text-align: right;\n",
       "    }\n",
       "</style>\n",
       "<table border=\"1\" class=\"dataframe\">\n",
       "  <thead>\n",
       "    <tr style=\"text-align: right;\">\n",
       "      <th></th>\n",
       "      <th>Pregnancies</th>\n",
       "      <th>Glucose</th>\n",
       "      <th>BloodPressure</th>\n",
       "      <th>SkinThickness</th>\n",
       "      <th>Insulin</th>\n",
       "      <th>BMI</th>\n",
       "      <th>DiabetesPedigreeFunction</th>\n",
       "      <th>Age</th>\n",
       "    </tr>\n",
       "  </thead>\n",
       "  <tbody>\n",
       "    <tr>\n",
       "      <th>count</th>\n",
       "      <td>768.000000</td>\n",
       "      <td>768.000000</td>\n",
       "      <td>768.000000</td>\n",
       "      <td>768.000000</td>\n",
       "      <td>768.000000</td>\n",
       "      <td>768.000000</td>\n",
       "      <td>768.000000</td>\n",
       "      <td>768.000000</td>\n",
       "    </tr>\n",
       "    <tr>\n",
       "      <th>mean</th>\n",
       "      <td>3.845052</td>\n",
       "      <td>120.894531</td>\n",
       "      <td>69.105469</td>\n",
       "      <td>20.536458</td>\n",
       "      <td>79.799479</td>\n",
       "      <td>31.992578</td>\n",
       "      <td>0.471876</td>\n",
       "      <td>33.240885</td>\n",
       "    </tr>\n",
       "    <tr>\n",
       "      <th>std</th>\n",
       "      <td>3.369578</td>\n",
       "      <td>31.972618</td>\n",
       "      <td>19.355807</td>\n",
       "      <td>15.952218</td>\n",
       "      <td>115.244002</td>\n",
       "      <td>7.884160</td>\n",
       "      <td>0.331329</td>\n",
       "      <td>11.760232</td>\n",
       "    </tr>\n",
       "    <tr>\n",
       "      <th>min</th>\n",
       "      <td>0.000000</td>\n",
       "      <td>0.000000</td>\n",
       "      <td>0.000000</td>\n",
       "      <td>0.000000</td>\n",
       "      <td>0.000000</td>\n",
       "      <td>0.000000</td>\n",
       "      <td>0.078000</td>\n",
       "      <td>21.000000</td>\n",
       "    </tr>\n",
       "    <tr>\n",
       "      <th>25%</th>\n",
       "      <td>1.000000</td>\n",
       "      <td>99.000000</td>\n",
       "      <td>62.000000</td>\n",
       "      <td>0.000000</td>\n",
       "      <td>0.000000</td>\n",
       "      <td>27.300000</td>\n",
       "      <td>0.243750</td>\n",
       "      <td>24.000000</td>\n",
       "    </tr>\n",
       "    <tr>\n",
       "      <th>50%</th>\n",
       "      <td>3.000000</td>\n",
       "      <td>117.000000</td>\n",
       "      <td>72.000000</td>\n",
       "      <td>23.000000</td>\n",
       "      <td>30.500000</td>\n",
       "      <td>32.000000</td>\n",
       "      <td>0.372500</td>\n",
       "      <td>29.000000</td>\n",
       "    </tr>\n",
       "    <tr>\n",
       "      <th>75%</th>\n",
       "      <td>6.000000</td>\n",
       "      <td>140.250000</td>\n",
       "      <td>80.000000</td>\n",
       "      <td>32.000000</td>\n",
       "      <td>127.250000</td>\n",
       "      <td>36.600000</td>\n",
       "      <td>0.626250</td>\n",
       "      <td>41.000000</td>\n",
       "    </tr>\n",
       "    <tr>\n",
       "      <th>max</th>\n",
       "      <td>17.000000</td>\n",
       "      <td>199.000000</td>\n",
       "      <td>122.000000</td>\n",
       "      <td>99.000000</td>\n",
       "      <td>846.000000</td>\n",
       "      <td>67.100000</td>\n",
       "      <td>2.420000</td>\n",
       "      <td>81.000000</td>\n",
       "    </tr>\n",
       "  </tbody>\n",
       "</table>\n",
       "</div>"
      ],
      "text/plain": [
       "       Pregnancies     Glucose  BloodPressure  SkinThickness     Insulin  \\\n",
       "count   768.000000  768.000000     768.000000     768.000000  768.000000   \n",
       "mean      3.845052  120.894531      69.105469      20.536458   79.799479   \n",
       "std       3.369578   31.972618      19.355807      15.952218  115.244002   \n",
       "min       0.000000    0.000000       0.000000       0.000000    0.000000   \n",
       "25%       1.000000   99.000000      62.000000       0.000000    0.000000   \n",
       "50%       3.000000  117.000000      72.000000      23.000000   30.500000   \n",
       "75%       6.000000  140.250000      80.000000      32.000000  127.250000   \n",
       "max      17.000000  199.000000     122.000000      99.000000  846.000000   \n",
       "\n",
       "              BMI  DiabetesPedigreeFunction         Age  \n",
       "count  768.000000                768.000000  768.000000  \n",
       "mean    31.992578                  0.471876   33.240885  \n",
       "std      7.884160                  0.331329   11.760232  \n",
       "min      0.000000                  0.078000   21.000000  \n",
       "25%     27.300000                  0.243750   24.000000  \n",
       "50%     32.000000                  0.372500   29.000000  \n",
       "75%     36.600000                  0.626250   41.000000  \n",
       "max     67.100000                  2.420000   81.000000  "
      ]
     },
     "execution_count": 212,
     "metadata": {},
     "output_type": "execute_result"
    }
   ],
   "source": [
    "df_train.describe()"
   ]
  },
  {
   "cell_type": "code",
   "execution_count": 213,
   "metadata": {},
   "outputs": [
    {
     "data": {
      "text/plain": [
       "<matplotlib.axes._subplots.AxesSubplot at 0x1a2a068d68>"
      ]
     },
     "execution_count": 213,
     "metadata": {},
     "output_type": "execute_result"
    },
    {
     "data": {
      "image/png": "[encoded data removed]",
      "text/plain": [
       "<matplotlib.figure.Figure at 0x1a29de9e48>"
      ]
     },
     "metadata": {},
     "output_type": "display_data"
    }
   ],
   "source": [
    "# histogram\n",
    "sns.distplot(df_train['Insulin'])"
   ]
  },
  {
   "cell_type": "markdown",
   "metadata": {},
   "source": [
    "There are to much data with insulin equals 0, which makes us hard to see its distribution when insulin does not equals 0. We can eliminate data with insulin equals 0 and then plot it again."
   ]
  },
  {
   "cell_type": "code",
   "execution_count": 214,
   "metadata": {},
   "outputs": [
    {
     "data": {
      "text/plain": [
       "<matplotlib.axes._subplots.AxesSubplot at 0x1a29ed1198>"
      ]
     },
     "execution_count": 214,
     "metadata": {},
     "output_type": "execute_result"
    },
    {
     "data": {
      "image/png": "[encoded data removed]",
      "text/plain": [
       "<matplotlib.figure.Figure at 0x1a29eb7128>"
      ]
     },
     "metadata": {},
     "output_type": "display_data"
    }
   ],
   "source": [
    "# histogram without insulin == 0\n",
    "sns.distplot(df_train.loc[df_train['Insulin'] != 0, 'Insulin'])"
   ]
  },
  {
   "cell_type": "markdown",
   "metadata": {},
   "source": [
    "Now we can see that there is a clear positive skewness in the distribution of Insulin. Is it possible that people who have extreme insuline values are more likely to have diabetes? "
   ]
  },
  {
   "cell_type": "code",
   "execution_count": 240,
   "metadata": {},
   "outputs": [
    {
     "data": {
      "image/png": "[encoded data removed]",
      "text/plain": [
       "<matplotlib.figure.Figure at 0x1a2b750da0>"
      ]
     },
     "metadata": {},
     "output_type": "display_data"
    }
   ],
   "source": [
    "data = pd.concat([df_train['Insulin'], df_outcome_text['Text']], axis=1)\n",
    "sns.set_style(\"whitegrid\")\n",
    "f, ax = plt.subplots(figsize=(16, 8))\n",
    "my_pal = {\"Diabetes\": \"r\", \"Non-Diabetes\": \"g\"}\n",
    "fig = sns.boxplot(y= 'Text', x=\"Insulin\", data=data, orient=\"h\", palette=my_pal)"
   ]
  },
  {
   "cell_type": "markdown",
   "metadata": {},
   "source": [
    "As we can see from picture above, people with diabetes do have higher insulin. However, people with extremely high insulin do not necessarily get diabetes. Since old people are more likely to get diabetes compared to youngsters. We first try to plot the relationship between insulin and age."
   ]
  },
  {
   "cell_type": "code",
   "execution_count": 241,
   "metadata": {},
   "outputs": [
    {
     "data": {
      "text/plain": [
       "<matplotlib.colorbar.Colorbar at 0x1a2bbcada0>"
      ]
     },
     "execution_count": 241,
     "metadata": {},
     "output_type": "execute_result"
    },
    {
     "data": {
      "image/png": "[encoded data removed]",
      "text/plain": [
       "<matplotlib.figure.Figure at 0x1a2b981ef0>"
      ]
     },
     "metadata": {},
     "output_type": "display_data"
    }
   ],
   "source": [
    "# bivariate analysis Age/Insulin\n",
    "var1 = 'Age'\n",
    "var2 = 'Insulin'\n",
    "data = pd.concat([df_train[var1], df_train[var2], df_outcome_text['Outcome']], axis=1)\n",
    "data = data.drop(index = df_train[df_train.Insulin == 0].index)\n",
    "\n",
    "colors = ['green','red']\n",
    "# ax = data.plot.scatter(x = 'Age', y = 'Insulin', c = 'Outcome', cmap=ListedColormap(colors), alpha = 0.6)\n",
    "plt.scatter(data.Age, data.Insulin, c = data.Outcome, cmap=ListedColormap(colors), alpha = 0.6)\n",
    "plt.xlabel('Age')\n",
    "plt.ylabel('Insuline')\n",
    "plt.colorbar()"
   ]
  },
  {
   "cell_type": "markdown",
   "metadata": {},
   "source": [
    "As you can see from the above plot, red points are people with diabetes and green points are people without diabetes. It is very hard to precisely classifiy diabetes and non-diabetes simply based on variable Insuline and variable Age. Is there any variable which are highly correlated with Insuline?"
   ]
  },
  {
   "cell_type": "code",
   "execution_count": 242,
   "metadata": {},
   "outputs": [
    {
     "data": {
      "image/png": "[encoded data removed]",
      "text/plain": [
       "<matplotlib.figure.Figure at 0x1a2b85dac8>"
      ]
     },
     "metadata": {},
     "output_type": "display_data"
    }
   ],
   "source": [
    "# correlation matrix\n",
    "corrmat = df_train.corr()\n",
    "f, ax = plt.subplots(figsize=(12, 9))\n",
    "sns.set(font_scale=2)\n",
    "# heatmap\n",
    "sns.heatmap(corrmat, cbar=True, vmax=.8, square=True, annot=True, fmt='.2f', annot_kws={'size': 10});"
   ]
  },
  {
   "cell_type": "markdown",
   "metadata": {},
   "source": [
    "Amazingly, from the picture above, we found that actually there is a 0.44 correlation between variable insulin and variable SkinThickness. Let's plot a scatterplot between them."
   ]
  },
  {
   "cell_type": "code",
   "execution_count": 243,
   "metadata": {},
   "outputs": [
    {
     "data": {
      "text/plain": [
       "<matplotlib.colorbar.Colorbar at 0x1a2bf978d0>"
      ]
     },
     "execution_count": 243,
     "metadata": {},
     "output_type": "execute_result"
    },
    {
     "data": {
      "image/png": "[encoded data removed]",
      "text/plain": [
       "<matplotlib.figure.Figure at 0x1a2b97c0f0>"
      ]
     },
     "metadata": {},
     "output_type": "display_data"
    }
   ],
   "source": [
    "# bivariate analysis Age/Insulin\n",
    "var1 = 'SkinThickness'\n",
    "var2 = 'Insulin'\n",
    "data = pd.concat([df_train[var1], df_train[var2], df_outcome_text['Outcome']], axis=1)\n",
    "data = data.drop(index = df_train[df_train.Insulin == 0].index)\n",
    "sns.set(font_scale=1)\n",
    "sns.set_style(\"whitegrid\")\n",
    "colors = ['green','red']\n",
    "# ax = data.plot.scatter(x = 'Age', y = 'Insulin', c = 'Outcome', cmap=ListedColormap(colors), alpha = 0.6)\n",
    "plt.scatter(data.SkinThickness, data.Insulin, c = data.Outcome, cmap=ListedColormap(colors), alpha = 0.6)\n",
    "plt.xlabel('SkinThickness')\n",
    "plt.ylabel('Insuline')\n",
    "plt.colorbar()"
   ]
  },
  {
   "cell_type": "markdown",
   "metadata": {},
   "source": [
    "Still, it is very hard to see a clear different pattern between people with diabetes and people without diabetes in the scatter plot. "
   ]
  },
  {
   "cell_type": "code",
   "execution_count": 225,
   "metadata": {},
   "outputs": [],
   "source": [
    "# randomly split data into train data and test data\n",
    "X_train, X_test, y_train, y_test = train_test_split(df_train, df_outcome_text['Outcome'], test_size = 0.33, random_state = 12)\n",
    "\n",
    "# standardize train and test data\n",
    "scaler = StandardScaler()\n",
    "X_train = scaler.fit_transform(X_train) # Fit to data, then transform it\n",
    "X_test = scaler.fit_transform(X_test) # Fit to data, then transform it"
   ]
  },
  {
   "cell_type": "markdown",
   "metadata": {},
   "source": [
    "### Model Training"
   ]
  },
  {
   "cell_type": "code",
   "execution_count": null,
   "metadata": {},
   "outputs": [],
   "source": [
    "n_features = X_train.shape[1]\n",
    "# here, we have a model with three hidden layers. There are n_features number of nodes in each hidden layer.\n",
    "mlp = MLPClassifier(hidden_layer_sizes=(n_features,n_features,n_features), max_iter= 700)"
   ]
  },
  {
   "cell_type": "code",
   "execution_count": null,
   "metadata": {},
   "outputs": [],
   "source": [
    "# fit the training data to our model\n",
    "mlp.fit(X_train, y_train)"
   ]
  },
  {
   "cell_type": "markdown",
   "metadata": {},
   "source": [
    "### Predictions And Evaluation"
   ]
  },
  {
   "cell_type": "markdown",
   "metadata": {},
   "source": [
    "Now we can use the sklearn built-in metrics such as confusion matrix and classification report to measure how well our model can predict!"
   ]
  },
  {
   "cell_type": "code",
   "execution_count": null,
   "metadata": {},
   "outputs": [],
   "source": [
    "predictions = mlp.predict(X_test)\n",
    "print(confusion_matrix(y_test, predictions))"
   ]
  },
  {
   "cell_type": "markdown",
   "metadata": {},
   "source": [
    "From above confusion matrix, we can see that out of 159 (145+14) actual non-diabetes cases, we misclassified 14 cases. Also, out of 95 (39+56) actual diabetes cases, we misclassified 39 cases. \n",
    "\n",
    "Meanwhile, we can see that out of 184 (145+39) predicted non-diabetes cases, we wrongly classified 39 real diabetes cases as non-diabetes. Out of 80 (14+56) predicted diabetes cases, we wrongly classified 14 real non-diabetes cases as diabetes."
   ]
  },
  {
   "cell_type": "code",
   "execution_count": null,
   "metadata": {},
   "outputs": [],
   "source": [
    "target_names = ['non-diabetes', 'diabetes']\n",
    "print(classification_report(y_test, predictions, target_names=target_names))"
   ]
  },
  {
   "cell_type": "markdown",
   "metadata": {},
   "source": [
    "### Summary And References\n",
    "1. Confusion Matrix: https://en.wikipedia.org/wiki/Confusion_matrix"
   ]
  },
  {
   "cell_type": "code",
   "execution_count": null,
   "metadata": {},
   "outputs": [],
   "source": []
  }
 ],
 "metadata": {
  "kernelspec": {
   "display_name": "Python 3",
   "language": "python",
   "name": "python3"
  },
  "language_info": {
   "codemirror_mode": {
    "name": "ipython",
    "version": 3
   },
   "file_extension": ".py",
   "mimetype": "text/x-python",
   "name": "python",
   "nbconvert_exporter": "python",
   "pygments_lexer": "ipython3",
   "version": "3.6.4"
  }
 },
 "nbformat": 4,
 "nbformat_minor": 2
}
